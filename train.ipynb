{
  "nbformat": 4,
  "nbformat_minor": 0,
  "metadata": {
    "colab": {
      "name": "train.ipynb",
      "provenance": [],
      "collapsed_sections": []
    },
    "kernelspec": {
      "name": "python3",
      "display_name": "Python 3"
    },
    "accelerator": "GPU"
  },
  "cells": [
    {
      "cell_type": "code",
      "metadata": {
        "colab": {
          "base_uri": "https://localhost:8080/"
        },
        "id": "pFfQbLwCjjJV",
        "outputId": "94f08f77-560a-4ea3-8c4a-1669fd1e855e"
      },
      "source": [
        "#remove at the end\r\n",
        "# from google.colab import drive\r\n",
        "# drive.mount('/content/drive')\r\n",
        "# %cd drive/MyDrive/Pattern recognition and machine learning/fma/submission\r\n",
        "# !ls \r\n",
        "# !pip install python-dotenv"
      ],
      "execution_count": null,
      "outputs": [
        {
          "output_type": "stream",
          "text": [
            "Mounted at /content/drive\n",
            "/content/drive/MyDrive/Pattern recognition and machine learning/fma/submission\n",
            "'Copie de predict_year.ipynb'   __pycache__\t        X_test_CNN.npy\n",
            " data_distribution.png\t        spectrograms\t        X_test_SVM.npy\n",
            " dataset.csv\t\t        svm_model_linear.sav    X_train_CNN.npy\n",
            " features.csv\t\t        svm_model_poly.sav      X_train_SVM.npy\n",
            " intro_cnn_my_model.h5\t        svm_model_rbf.sav       X_val_CNN.npy\n",
            " intro_DenseNet121.h5\t        svm_model_sigmoid.sav   X_val_SVM.npy\n",
            " intro_resnet_18_2.h5\t        test_hist.png\t        Y_test_CNN.npy\n",
            " intro_resnet_18.h5\t        test.ipynb\t        Y_test_SVM.npy\n",
            " intro_resnet_final.h5\t        test_spectrograms       Y_train_CNN.npy\n",
            " model.h5\t\t        tracks.csv\t        Y_train_SVM.npy\n",
            " plots_intro\t\t        train.ipynb\t        Y_val_CNN.npy\n",
            " predict_year.ipynb\t        Untitled\t        Y_val_SVM.npy\n",
            " Preprocessing.ipynb\t        utils.py\n",
            "Collecting python-dotenv\n",
            "  Downloading https://files.pythonhosted.org/packages/32/2e/e4585559237787966aad0f8fd0fc31df1c4c9eb0e62de458c5b6cde954eb/python_dotenv-0.15.0-py2.py3-none-any.whl\n",
            "Installing collected packages: python-dotenv\n",
            "Successfully installed python-dotenv-0.15.0\n"
          ],
          "name": "stdout"
        }
      ]
    },
    {
      "cell_type": "code",
      "metadata": {
        "id": "Rvpk4ATzjvhB"
      },
      "source": [
        "# load input and output as numpy array from npy file\r\n",
        "from numpy import load\r\n",
        "from PIL import Image\r\n",
        "# load array\r\n",
        "X_train= load('X_train_CNN.npy')\r\n",
        "Y_train=load('Y_train_CNN.npy')\r\n",
        "\r\n",
        "X_val= load('X_val_CNN.npy')\r\n",
        "Y_val=load('Y_val_CNN.npy')\r\n",
        "\r\n",
        "X_test= load('X_test_CNN.npy')\r\n",
        "Y_test=load('Y_test_CNN.npy')"
      ],
      "execution_count": null,
      "outputs": []
    },
    {
      "cell_type": "code",
      "metadata": {
        "colab": {
          "base_uri": "https://localhost:8080/"
        },
        "id": "PtACBGkajwzw",
        "outputId": "a15e2e0b-b3b2-4993-c814-461cf29758d0"
      },
      "source": [
        "#retrain resnet\r\n",
        "from tensorflow.keras import applications\r\n",
        "import pandas as pd\r\n",
        "import numpy as np\r\n",
        "import os\r\n",
        "import tensorflow.keras\r\n",
        "import matplotlib.pyplot as plt\r\n",
        "from tensorflow.keras.layers import Dense,GlobalAveragePooling2D\r\n",
        "from tensorflow.keras.applications import MobileNet\r\n",
        "from tensorflow.keras.preprocessing import image\r\n",
        "from tensorflow.keras.applications.mobilenet import preprocess_input\r\n",
        "from tensorflow.keras.preprocessing.image import ImageDataGenerator\r\n",
        "from tensorflow.keras.models import Model\r\n",
        "from tensorflow.keras.optimizers import Adam\r\n",
        "from tensorflow.keras.applications.resnet50 import ResNet50\r\n",
        "from tensorflow.keras.callbacks import ModelCheckpoint\r\n",
        "from tensorflow.keras.layers import Dropout, Flatten, Dense, GlobalAveragePooling2D\r\n",
        "from keras.callbacks import EarlyStopping\r\n",
        "\r\n",
        "\r\n",
        "img_width=323\r\n",
        "img_height=128\r\n",
        "\r\n",
        "model = applications.ResNet50(include_top=False, weights='imagenet', input_shape=(img_height, img_width, 3))\r\n",
        "\r\n",
        "x = model.output\r\n",
        "x = Flatten()(x)\r\n",
        "\r\n",
        "#x = Dense(256, activation=\"relu\")(x)\r\n",
        "predictions = Dense(17, activation=\"softmax\")(x)\r\n",
        "\r\n",
        "# creating the final model \r\n",
        "model_final = Model(inputs = model.input, outputs = predictions)\r\n",
        "\r\n",
        "\r\n",
        "#compile model using accuracy to measure model performance\r\n",
        "model_final.compile(optimizer='adam', loss='categorical_crossentropy', metrics=['accuracy'])\r\n",
        "\r\n",
        "#save wights\r\n",
        "checkpoint = ModelCheckpoint(\"model.h5\", monitor='val_accuracy', verbose=1,\r\n",
        "    save_best_only=True, mode='auto', period=1) \r\n",
        "#train the model\r\n",
        "hist=model_final.fit(X_train, Y_train, batch_size=64, epochs=50,validation_data=(X_val, Y_val),callbacks=[checkpoint],shuffle=True)\r\n",
        "\r\n"
      ],
      "execution_count": null,
      "outputs": [
        {
          "output_type": "stream",
          "text": [
            "Downloading data from https://storage.googleapis.com/tensorflow/keras-applications/resnet/resnet50_weights_tf_dim_ordering_tf_kernels_notop.h5\n",
            "94773248/94765736 [==============================] - 1s 0us/step\n",
            "WARNING:tensorflow:`period` argument is deprecated. Please use `save_freq` to specify the frequency in number of batches seen.\n",
            "Epoch 1/2\n",
            "66/66 [==============================] - 51s 575ms/step - loss: 5.7582 - accuracy: 0.1317 - val_loss: 42.7009 - val_accuracy: 0.0996\n",
            "\n",
            "Epoch 00001: val_accuracy improved from -inf to 0.09962, saving model to just_test.h5\n",
            "Epoch 2/2\n",
            "66/66 [==============================] - 36s 549ms/step - loss: 2.6380 - accuracy: 0.1579 - val_loss: 2.6578 - val_accuracy: 0.0996\n",
            "\n",
            "Epoch 00002: val_accuracy did not improve from 0.09962\n"
          ],
          "name": "stdout"
        }
      ]
    },
    {
      "cell_type": "code",
      "metadata": {
        "colab": {
          "base_uri": "https://localhost:8080/",
          "height": 572
        },
        "id": "kj4uKZGykWz2",
        "outputId": "cb8a50fb-95db-4b3d-b75d-6e3d2f0abbaa"
      },
      "source": [
        "# summarize history for accuracy\r\n",
        "plt.plot(hist.history['accuracy'])\r\n",
        "plt.plot(hist.history['val_accuracy'])\r\n",
        "plt.title('model accuracy')\r\n",
        "plt.ylabel('accuracy')\r\n",
        "plt.xlabel('epoch')\r\n",
        "plt.legend(['train', 'vaidation'], loc='upper left')\r\n",
        "plt.show()\r\n",
        "# summarize history for loss\r\n",
        "plt.plot(hist.history['loss'])\r\n",
        "plt.plot(hist.history['val_loss'])\r\n",
        "plt.title('model loss')\r\n",
        "plt.ylabel('loss')\r\n",
        "plt.xlabel('epoch')\r\n",
        "plt.legend(['train', 'vaidation'], loc='upper left')\r\n",
        "plt.show()"
      ],
      "execution_count": null,
      "outputs": [
        {
          "output_type": "display_data",
          "data": {
            "image/png": "[encoded data removed]",
            "text/plain": [
              "<Figure size 432x288 with 1 Axes>"
            ]
          },
          "metadata": {
            "tags": [],
            "needs_background": "light"
          }
        },
        {
          "output_type": "display_data",
          "data": {
            "image/png": "[encoded data removed]",
            "text/plain": [
              "<Figure size 432x288 with 1 Axes>"
            ]
          },
          "metadata": {
            "tags": [],
            "needs_background": "light"
          }
        }
      ]
    },
    {
      "cell_type": "code",
      "metadata": {
        "id": "XYc0WEYX0aaQ"
      },
      "source": [
        ""
      ],
      "execution_count": null,
      "outputs": []
    }
  ]
}